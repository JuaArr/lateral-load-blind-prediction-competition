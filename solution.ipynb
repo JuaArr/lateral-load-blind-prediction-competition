{
 "cells": [
  {
   "cell_type": "code",
   "execution_count": 1,
   "id": "a8c412f9",
   "metadata": {},
   "outputs": [],
   "source": [
    "from pathlib import Path\n",
    "\n",
    "import numpy as np\n",
    "import numpy.linalg as alg\n",
    "from matplotlib import pyplot as plt\n",
    "from scipy.optimize import root\n",
    "\n",
    "from fem_linear import (calculate_element_properties, local_stiffness_matrix, assign_Fex, assign_Uex)\n",
    "from utils import get_pile_data, refine_mesh\n",
    "from utils.visualization import init_plot"
   ]
  },
  {
   "cell_type": "code",
   "execution_count": 39,
   "id": "d7229fc1",
   "metadata": {},
   "outputs": [],
   "source": [
    "input_dir = Path('./data/input')\n",
    "\n",
    "xyz, elem, section, properties = get_pile_data(input_dir, \"P3\")\n",
    "xyz, elem, section, map_dof = refine_mesh(xyz, elem, section, n=5)"
   ]
  },
  {
   "cell_type": "code",
   "execution_count": 40,
   "id": "f111521f",
   "metadata": {},
   "outputs": [],
   "source": [
    "Fex = [(map_dof(2), 1, -100.0)]\n",
    "\n",
    "Uex = [(map_dof(11), 1, 0.0),\n",
    "       (map_dof(11), 2, 0.0)]"
   ]
  },
  {
   "cell_type": "code",
   "execution_count": 41,
   "id": "6bca9d29",
   "metadata": {},
   "outputs": [],
   "source": [
    "elem_in_soil = elem[map_dof(4)-1:]\n",
    "H = 17.0\n",
    "sa = -0.01*H\n",
    "sp = -10.0*sa\n",
    "theta = 30.0\n",
    "gamma = 19.0"
   ]
  },
  {
   "cell_type": "code",
   "execution_count": 42,
   "id": "851d9606",
   "metadata": {},
   "outputs": [
    {
     "data": {
      "text/plain": [
       "array([   0.,    0.,    0.,    0.,    0.,    0.,    0.,    0.,    0.,\n",
       "          0., -100.,    0.,    0.,    0.,    0.,    0.,    0.,    0.,\n",
       "          0.,    0.,    0.,    0.,    0.,    0.,    0.,    0.,    0.,\n",
       "          0.,    0.,    0.,    0.,    0.,    0.,    0.,    0.,    0.,\n",
       "          0.,    0.,    0.,    0.,    0.,    0.,    0.,    0.,    0.,\n",
       "          0.,    0.,    0.,    0.,    0.,    0.,    0.,    0.,    0.,\n",
       "          0.,    0.,    0.,    0.,    0.,    0.,    0.,    0.,    0.,\n",
       "          0.,    0.,    0.,    0.,    0.,    0.,    0.,    0.,    0.,\n",
       "          0.,    0.,    0.,    0.,    0.,    0.,    0.,    0.,    0.,\n",
       "          0.,    0.,    0.,    0.,    0.,    0.,    0.,    0.,    0.,\n",
       "          0.,    0.,    0.,    0.,    0.,    0.,    0.,    0.,    0.,\n",
       "          0.,    0.,    0.])"
      ]
     },
     "metadata": {},
     "output_type": "display_data"
    }
   ],
   "source": [
    "# Grados de libertad por nodo\n",
    "n_dof = 2\n",
    "\n",
    "# Matriz de propiedades de los elementos\n",
    "element_properties = calculate_element_properties(xyz, elem, section, properties)\n",
    "E = element_properties[:, 0]\n",
    "Iz = element_properties[:, 1]\n",
    "L = element_properties[:, 2]\n",
    "\n",
    "# --------------------------------------------\n",
    "\n",
    "# Grados de libertad totales (GDL)\n",
    "dof_t = n_dof * xyz.shape[0]\n",
    "\n",
    "# Ensamblaje de la matriz de rigidez\n",
    "Px = 500.0\n",
    "K = np.zeros((dof_t, dof_t))\n",
    "offset = np.arange(n_dof, 0, -1, dtype=int)\n",
    "for i in range(elem.shape[0]):\n",
    "    dof_i = elem[i, 0]*n_dof - offset\n",
    "    dof_j = elem[i, 1]*n_dof - offset\n",
    "    dof_e = np.append(dof_i, dof_j)\n",
    "\n",
    "    Ke = local_stiffness_matrix(E[i], Iz[i], L[i], Px)\n",
    "    K[np.ix_(dof_e, dof_e)] += Ke\n",
    "\n",
    "# Inicia el vector de desplazamientos\n",
    "u = np.zeros((dof_t))\n",
    "\n",
    "# Ensamblaje del vector de fuerzas externas\n",
    "f0 = np.zeros((dof_t))\n",
    "assign_Fex(f0, Fex, n_dof)\n",
    "\n",
    "display(f0)\n",
    "\n",
    "K_ = K.copy()\n",
    "\n",
    "f = f0.copy()\n",
    "assign_Uex(f, K_, Uex, n_dof)\n",
    "u = alg.solve(K_, f)\n",
    "\n",
    "# def R(u, L, sa, sp, gamma, theta, elem_in_soil, n_dof):\n",
    "#     return np.dot(K, u) - f1 - soil_reaction(u, L, sa, sp, gamma, theta, elem_in_soil, n_dof)\n",
    "\n",
    "\n",
    "# sol = root(R, x0=u, args=(L, sa, sp, gamma, theta, elem_in_soil, n_dof), method='krylov', options={'xtol': 1e-6, 'maxiter': 200})"
   ]
  },
  {
   "cell_type": "code",
   "execution_count": 33,
   "id": "0a2f80a6",
   "metadata": {},
   "outputs": [],
   "source": [
    "init_plot(scl_a4=1, aspect_ratio=[3, 4], page_lnewdth_cm=10, fnt=\"arial\")\n",
    "\n",
    "output_dir = Path('./data/output')\n",
    "\n",
    "fig, ax = plt.subplots(1, 1)\n",
    "\n",
    "ax.plot(u[::2]*1000, xyz)\n",
    "\n",
    "ax.set_xlabel(\"Displacement [mm]\")\n",
    "ax.set_ylabel(\"Depth [m]\")\n",
    "ax.set_title(\"Displacement along the pile\")\n",
    "\n",
    "fig.tight_layout()\n",
    "fig.savefig(output_dir/\"displacement.png\")\n",
    "plt.close()"
   ]
  },
  {
   "cell_type": "code",
   "execution_count": 209,
   "id": "9632d70a",
   "metadata": {},
   "outputs": [
    {
     "name": "stdout",
     "output_type": "stream",
     "text": [
      "100.0\n",
      "14.331983614691511\n"
     ]
    }
   ],
   "source": [
    "print(np.sum(f1.reshape(-1, 3)[:, 0]))\n",
    "f2 = soil_reaction(sol.x, L, sa, sp, gamma, theta, elem_in_soil, n_dof)\n",
    "print(np.sum(f2.reshape(-1, 3)[:, 0]))"
   ]
  },
  {
   "cell_type": "code",
   "execution_count": 14,
   "id": "5877b4a7",
   "metadata": {},
   "outputs": [
    {
     "name": "stdout",
     "output_type": "stream",
     "text": [
      "[[-1.89488847e-05 -1.24654702e-06]\n",
      " [-1.89164745e-05 -1.24654702e-06]\n",
      " [-1.88840643e-05 -1.24654702e-06]\n",
      " ...\n",
      " [-1.86152732e-11 -2.32657181e-09]\n",
      " [-4.65449297e-12 -1.16353891e-09]\n",
      " [ 0.00000000e+00  0.00000000e+00]]\n"
     ]
    }
   ],
   "source": [
    "print(u.reshape(-1, 2))"
   ]
  },
  {
   "cell_type": "code",
   "execution_count": null,
   "id": "277246eb",
   "metadata": {},
   "outputs": [],
   "source": [
    "K_ = K.copy()\n",
    "\n",
    "assign_Uex(f, K_, Uex, n_dof)\n",
    "u = alg.solve(K_, f)\n",
    "f = np.dot(K, u)\n"
   ]
  },
  {
   "cell_type": "code",
   "execution_count": 109,
   "id": "71f5d616",
   "metadata": {},
   "outputs": [
    {
     "data": {
      "text/plain": [
       "-5318.709111763434"
      ]
     },
     "execution_count": 109,
     "metadata": {},
     "output_type": "execute_result"
    }
   ],
   "source": [
    "sr = soil_reaction(u, L, sa, sp, gamma, theta, elem_in_soil, n_dof)\n",
    "sr_ = sr.reshape(-1, 3)\n",
    "np.sum(sr_[:, 0])"
   ]
  },
  {
   "cell_type": "code",
   "execution_count": 55,
   "id": "8940afd9",
   "metadata": {},
   "outputs": [],
   "source": [
    "def J(K, f, u, L, sa, sp, gamma, theta, elem_in_soil, n_dof, dof_t, eps):\n",
    "    dfdu = np.zeros((dof_t, dof_t))\n",
    "    _u = u.copy()\n",
    "    for i in range(dof_t):\n",
    "        _u[i] += eps\n",
    "        _f = soil_reaction(_u, L, sa, sp, gamma, theta, elem_in_soil, n_dof)\n",
    "        dfdu[:, i] = (_f - f) / eps\n",
    "        _u[i] -= eps\n",
    "\n",
    "    return K-dfdu\n",
    "\n",
    "Jac = J(K, f, u, L, sa, sp, gamma, theta, elem_in_soil, n_dof, dof_t, 1e-6)\n"
   ]
  },
  {
   "cell_type": "code",
   "execution_count": 14,
   "id": "42284255",
   "metadata": {},
   "outputs": [],
   "source": [
    "from utils.earth_pressure import Ks\n",
    "from scipy.integrate import quad_vec\n",
    "\n",
    "\n",
    "def w(xi, Le):\n",
    "    w_vec = np.array([[1 - 3*xi**2 + 2*xi**3],\n",
    "                      [Le*(xi-2*xi**2 + xi**3)],\n",
    "                      [3*xi**2 - 2*xi**3],\n",
    "                      [Le*(-xi**2 + xi**3)]])\n",
    "    return w_vec\n",
    "\n",
    "\n",
    "def interpolate_u(xi, Le, ue):\n",
    "    return np.dot(w(xi, Le).T, ue).reshape(-1)\n",
    "\n",
    "\n",
    "def soil_reaction(u, L, sa, sp, gamma, theta, elem, n_dof) -> None:\n",
    "    # elem = [elem1, elem2]\n",
    "    def p(xi, Le, z, gamma, sa, sp, theta, ue):\n",
    "        _z = Le*xi + z\n",
    "        s = interpolate_u(xi, Le, ue)\n",
    "        return (Ks(-s, sa, sp, theta) - Ks(s, sa, sp, theta)) * gamma * _z # left-side - right-side\n",
    "    \n",
    "\n",
    "    def g(xi, Le, z, gamma, sa, sp, theta, ue):\n",
    "        return Le * w(xi, Le) * p(xi, Le, z, gamma, sa, sp, theta, ue)\n",
    "    \n",
    "    \n",
    "    n_elem = elem.shape[0]\n",
    "\n",
    "    z = 0.0\n",
    "    f = np.zeros((dof_t))\n",
    "    for elem_id in range(n_elem):\n",
    "        offset = np.array([3, 1], dtype=int)\n",
    "        dof_n1 = elem[elem_id, 0]*n_dof - offset\n",
    "        dof_n2 = elem[elem_id, 1]*n_dof - offset\n",
    "        dof_n12 = np.hstack((dof_n1, dof_n2))\n",
    "\n",
    "        Le = L[elem_id]\n",
    "        ue = u[np.ix_(dof_n12)]\n",
    "        \n",
    "        res, _ = quad_vec(g, 0, 1, args=(Le, z, gamma, sa, sp, theta, ue), epsrel=1e-6, limit=1000)\n",
    "        f[np.ix_(dof_n12)] += res.reshape(-1)\n",
    "\n",
    "        z += Le\n",
    "    \n",
    "    return f"
   ]
  },
  {
   "cell_type": "code",
   "execution_count": null,
   "id": "67aef87e",
   "metadata": {},
   "outputs": [],
   "source": [
    "elem_in_soil = elem[map_dof(4)-1:]\n",
    "H = 17.0\n",
    "sa = -0.01*H\n",
    "sp = -10.0*sa\n",
    "theta = 30.0\n",
    "gamma = 19.0\n",
    "\n",
    "soil_reaction(u, L, sa, sp, gamma, theta, elem_in_soil, n_dof)"
   ]
  }
 ],
 "metadata": {
  "kernelspec": {
   "display_name": "base",
   "language": "python",
   "name": "python3"
  },
  "language_info": {
   "codemirror_mode": {
    "name": "ipython",
    "version": 3
   },
   "file_extension": ".py",
   "mimetype": "text/x-python",
   "name": "python",
   "nbconvert_exporter": "python",
   "pygments_lexer": "ipython3",
   "version": "3.11.5"
  }
 },
 "nbformat": 4,
 "nbformat_minor": 5
}
